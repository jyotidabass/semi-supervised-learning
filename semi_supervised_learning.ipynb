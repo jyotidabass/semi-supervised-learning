{
  "nbformat": 4,
  "nbformat_minor": 0,
  "metadata": {
    "colab": {
      "name": "semi-supervised learning.ipynb",
      "provenance": [],
      "authorship_tag": "ABX9TyN/PoaaRHmPzdoZ8N9pRu93",
      "include_colab_link": true
    },
    "kernelspec": {
      "name": "python3",
      "display_name": "Python 3"
    },
    "language_info": {
      "name": "python"
    }
  },
  "cells": [
    {
      "cell_type": "markdown",
      "metadata": {
        "id": "view-in-github",
        "colab_type": "text"
      },
      "source": [
        "<a href=\"https://colab.research.google.com/github/jyotidabass/semi-supervised-learning/blob/main/semi_supervised_learning.ipynb\" target=\"_parent\"><img src=\"https://colab.research.google.com/assets/colab-badge.svg\" alt=\"Open In Colab\"/></a>"
      ]
    },
    {
      "cell_type": "code",
      "source": [
        "import numpy as np\n",
        "\n",
        "from sklearn.datasets import fetch_20newsgroups\n",
        "from sklearn.feature_extraction.text import CountVectorizer\n",
        "from sklearn.feature_extraction.text import TfidfTransformer\n",
        "from sklearn.preprocessing import FunctionTransformer\n",
        "from sklearn.linear_model import SGDClassifier\n",
        "from sklearn.model_selection import train_test_split\n",
        "from sklearn.pipeline import Pipeline\n",
        "from sklearn.semi_supervised import SelfTrainingClassifier\n",
        "from sklearn.semi_supervised import LabelSpreading\n",
        "from sklearn.metrics import f1_score"
      ],
      "metadata": {
        "id": "Tz0Eoe7plgup"
      },
      "execution_count": null,
      "outputs": []
    },
    {
      "cell_type": "code",
      "source": [
        "# Loading dataset containing first five categories\n",
        "data = fetch_20newsgroups(\n",
        "    subset=\"train\",\n",
        "    categories=[\n",
        "        \"alt.atheism\",\n",
        "        \"comp.graphics\",\n",
        "        \"comp.os.ms-windows.misc\",\n",
        "        \"comp.sys.ibm.pc.hardware\",\n",
        "        \"comp.sys.mac.hardware\",\n",
        "    ],\n",
        ")\n",
        "print(\"%d documents\" % len(data.filenames))\n",
        "print(\"%d categories\" % len(data.target_names))\n",
        "print()\n",
        "\n",
        "# Parameters\n",
        "sdg_params = dict(alpha=1e-5, penalty=\"l2\", loss=\"log\")\n",
        "vectorizer_params = dict(ngram_range=(1, 2), min_df=5, max_df=0.8)\n",
        "\n",
        "# Supervised Pipeline\n",
        "pipeline = Pipeline(\n",
        "    [\n",
        "        (\"vect\", CountVectorizer(**vectorizer_params)),\n",
        "        (\"tfidf\", TfidfTransformer()),\n",
        "        (\"clf\", SGDClassifier(**sdg_params)),\n",
        "    ]\n",
        ")\n",
        "# SelfTraining Pipeline\n",
        "st_pipeline = Pipeline(\n",
        "    [\n",
        "        (\"vect\", CountVectorizer(**vectorizer_params)),\n",
        "        (\"tfidf\", TfidfTransformer()),\n",
        "        (\"clf\", SelfTrainingClassifier(SGDClassifier(**sdg_params), verbose=True)),\n",
        "    ]\n",
        ")\n",
        "# LabelSpreading Pipeline\n",
        "ls_pipeline = Pipeline(\n",
        "    [\n",
        "        (\"vect\", CountVectorizer(**vectorizer_params)),\n",
        "        (\"tfidf\", TfidfTransformer()),\n",
        "        # LabelSpreading does not support dense matrices\n",
        "        (\"todense\", FunctionTransformer(lambda x: x.todense())),\n",
        "        (\"clf\", LabelSpreading()),\n",
        "    ]\n",
        ")\n",
        "\n",
        "\n",
        "def eval_and_print_metrics(clf, X_train, y_train, X_test, y_test):\n",
        "    print(\"Number of training samples:\", len(X_train))\n",
        "    print(\"Unlabeled samples in training set:\", sum(1 for x in y_train if x == -1))\n",
        "    clf.fit(X_train, y_train)\n",
        "    y_pred = clf.predict(X_test)\n",
        "    print(\n",
        "        \"Micro-averaged F1 score on test set: %0.3f\"\n",
        "        % f1_score(y_test, y_pred, average=\"micro\")\n",
        "    )\n",
        "    print(\"-\" * 10)\n",
        "    print()\n",
        "\n",
        "\n",
        "if __name__ == \"__main__\":\n",
        "    X, y = data.data, data.target\n",
        "    X_train, X_test, y_train, y_test = train_test_split(X, y)\n",
        "\n",
        "    print(\"Supervised SGDClassifier on 100% of the data:\")\n",
        "    eval_and_print_metrics(pipeline, X_train, y_train, X_test, y_test)\n",
        "\n",
        "    # select a mask of 20% of the train dataset\n",
        "    y_mask = np.random.rand(len(y_train)) < 0.2\n",
        "\n",
        "    # X_20 and y_20 are the subset of the train dataset indicated by the mask\n",
        "    X_20, y_20 = map(\n",
        "        list, zip(*((x, y) for x, y, m in zip(X_train, y_train, y_mask) if m))\n",
        "    )\n",
        "    print(\"Supervised SGDClassifier on 20% of the training data:\")\n",
        "    eval_and_print_metrics(pipeline, X_20, y_20, X_test, y_test)\n",
        "\n",
        "    # set the non-masked subset to be unlabeled\n",
        "    y_train[~y_mask] = -1\n",
        "    print(\"SelfTrainingClassifier on 20% of the training data (rest is unlabeled):\")\n",
        "    eval_and_print_metrics(st_pipeline, X_train, y_train, X_test, y_test)\n",
        "\n",
        "    print(\"LabelSpreading on 20% of the data (rest is unlabeled):\")\n",
        "    eval_and_print_metrics(ls_pipeline, X_train, y_train, X_test, y_test)"
      ],
      "metadata": {
        "colab": {
          "base_uri": "https://localhost:8080/"
        },
        "id": "ysOStYBOcAux",
        "outputId": "e724d578-4313-4bac-c9e3-a58167e06e3c"
      },
      "execution_count": null,
      "outputs": [
        {
          "output_type": "stream",
          "name": "stdout",
          "text": [
            "2823 documents\n",
            "5 categories\n",
            "\n",
            "Supervised SGDClassifier on 100% of the data:\n",
            "Number of training samples: 2117\n",
            "Unlabeled samples in training set: 0\n",
            "Micro-averaged F1 score on test set: 0.880\n",
            "----------\n",
            "\n",
            "Supervised SGDClassifier on 20% of the training data:\n",
            "Number of training samples: 419\n",
            "Unlabeled samples in training set: 0\n",
            "Micro-averaged F1 score on test set: 0.758\n",
            "----------\n",
            "\n",
            "SelfTrainingClassifier on 20% of the training data (rest is unlabeled):\n",
            "Number of training samples: 2117\n",
            "Unlabeled samples in training set: 1698\n",
            "End of iteration 1, added 1106 new labels.\n",
            "End of iteration 2, added 199 new labels.\n",
            "End of iteration 3, added 75 new labels.\n",
            "End of iteration 4, added 24 new labels.\n",
            "End of iteration 5, added 5 new labels.\n",
            "End of iteration 6, added 6 new labels.\n",
            "End of iteration 7, added 4 new labels.\n",
            "End of iteration 8, added 3 new labels.\n",
            "End of iteration 9, added 1 new labels.\n",
            "End of iteration 10, added 2 new labels.\n",
            "Micro-averaged F1 score on test set: 0.826\n",
            "----------\n",
            "\n",
            "LabelSpreading on 20% of the data (rest is unlabeled):\n",
            "Number of training samples: 2117\n",
            "Unlabeled samples in training set: 1698\n"
          ]
        },
        {
          "output_type": "stream",
          "name": "stderr",
          "text": [
            "/usr/local/lib/python3.7/dist-packages/sklearn/utils/validation.py:598: FutureWarning: np.matrix usage is deprecated in 1.0 and will raise a TypeError in 1.2. Please convert to a numpy array with np.asarray. For more information see: https://numpy.org/doc/stable/reference/generated/numpy.matrix.html\n",
            "  FutureWarning,\n",
            "/usr/local/lib/python3.7/dist-packages/sklearn/utils/validation.py:598: FutureWarning: np.matrix usage is deprecated in 1.0 and will raise a TypeError in 1.2. Please convert to a numpy array with np.asarray. For more information see: https://numpy.org/doc/stable/reference/generated/numpy.matrix.html\n",
            "  FutureWarning,\n"
          ]
        },
        {
          "output_type": "stream",
          "name": "stdout",
          "text": [
            "Micro-averaged F1 score on test set: 0.661\n",
            "----------\n",
            "\n"
          ]
        }
      ]
    }
  ]
}